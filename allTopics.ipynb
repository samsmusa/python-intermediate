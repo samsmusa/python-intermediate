{
 "cells": [
  {
   "cell_type": "code",
   "execution_count": 1,
   "metadata": {},
   "outputs": [
    {
     "name": "stdout",
     "output_type": "stream",
     "text": [
      "Collecting pipenv\n",
      "  Downloading pipenv-2022.6.7-py2.py3-none-any.whl (3.9 MB)\n",
      "     ---------------------------------------- 3.9/3.9 MB 813.1 kB/s eta 0:00:00\n",
      "Requirement already satisfied: virtualenv in c:\\python39\\lib\\site-packages (from pipenv) (20.13.2)\n",
      "Collecting pip>=22.0.4\n",
      "  Downloading pip-22.1.2-py3-none-any.whl (2.1 MB)\n",
      "     ---------------------------------------- 2.1/2.1 MB 980.9 kB/s eta 0:00:00\n",
      "Collecting virtualenv-clone>=0.2.5\n",
      "  Downloading virtualenv_clone-0.5.7-py3-none-any.whl (6.6 kB)\n",
      "Requirement already satisfied: certifi in c:\\python39\\lib\\site-packages (from pipenv) (2021.10.8)\n",
      "Requirement already satisfied: setuptools>=36.2.1 in c:\\users\\musa\\appdata\\roaming\\python\\python39\\site-packages (from pipenv) (60.9.3)\n",
      "Requirement already satisfied: six<2,>=1.9.0 in c:\\users\\musa\\appdata\\roaming\\python\\python39\\site-packages (from virtualenv->pipenv) (1.16.0)\n",
      "Requirement already satisfied: platformdirs<3,>=2 in c:\\python39\\lib\\site-packages (from virtualenv->pipenv) (2.5.1)\n",
      "Requirement already satisfied: filelock<4,>=3.2 in c:\\python39\\lib\\site-packages (from virtualenv->pipenv) (3.6.0)\n",
      "Requirement already satisfied: distlib<1,>=0.3.1 in c:\\python39\\lib\\site-packages (from virtualenv->pipenv) (0.3.4)\n",
      "Installing collected packages: virtualenv-clone, pip, pipenv\n",
      "Successfully installed pip-22.1.2 pipenv-2022.6.7 virtualenv-clone-0.5.7\n",
      "Note: you may need to restart the kernel to use updated packages.\n"
     ]
    },
    {
     "name": "stderr",
     "output_type": "stream",
     "text": [
      "  WARNING: The script virtualenv-clone.exe is installed in 'C:\\Users\\MUSA\\AppData\\Roaming\\Python\\Python39\\Scripts' which is not on PATH.\n",
      "  Consider adding this directory to PATH or, if you prefer to suppress this warning, use --no-warn-script-location.\n",
      "  WARNING: The scripts pip.exe, pip3.10.exe, pip3.9.exe and pip3.exe are installed in 'C:\\Users\\MUSA\\AppData\\Roaming\\Python\\Python39\\Scripts' which is not on PATH.\n",
      "  Consider adding this directory to PATH or, if you prefer to suppress this warning, use --no-warn-script-location.\n",
      "  WARNING: The scripts pipenv-resolver.exe and pipenv.exe are installed in 'C:\\Users\\MUSA\\AppData\\Roaming\\Python\\Python39\\Scripts' which is not on PATH.\n",
      "  Consider adding this directory to PATH or, if you prefer to suppress this warning, use --no-warn-script-location.\n",
      "WARNING: You are using pip version 22.0.3; however, version 22.1.2 is available.\n",
      "You should consider upgrading via the 'c:\\Python39\\python.exe -m pip install --upgrade pip' command.\n"
     ]
    }
   ],
   "source": [
    "pip install - -user pipenv\n"
   ]
  },
  {
   "cell_type": "code",
   "execution_count": 5,
   "metadata": {},
   "outputs": [],
   "source": [
    "import requests\n",
    "from bs4 import BeautifulSoup as bs\n",
    "headers1 = {'User-Agent': 'Mozilla/5.0 (Windows NT 6.1; WOW64) AppleWebKit/537.36 (KHTML, like Gecko) Chrome/56.0.2924.76 Safari/537.36', \"Upgrade-Insecure-Requests\": \"1\",\n",
    "            \"DNT\": \"1\", \"Accept\": \"text/html,application/xhtml+xml,application/xml;q=0.9,*/*;q=0.8\", \"Accept-Language\": \"en-US,en;q=0.5\", \"Accept-Encoding\": \"gzip, deflate\"}\n",
    "\n",
    "\n",
    "def get_data(url):\n",
    "    data = requests.get(url, headers=headers1)\n",
    "    soup = bs(data.text, 'html.parser')\n",
    "    return soup\n",
    "\n",
    "\n",
    "allTopics = []\n",
    "for i in range(1, 9):\n",
    "    url = f'https://realpython.com/tutorials/intermediate/page/{i}/'\n",
    "    soup = get_data(url)\n",
    "    titles = soup.find_all('h2', class_=\"card-title h4 my-0 py-0\")\n",
    "    for title in titles:\n",
    "        allTopics.append(title.text)\n"
   ]
  },
  {
   "cell_type": "code",
   "execution_count": 8,
   "metadata": {},
   "outputs": [],
   "source": [
    "with open(\"topic.txt\", \"w\", encoding='utf-8') as file:\n",
    "    for text in allTopics:\n",
    "        file.write(str(text))\n",
    "        file.write('\\n')\n",
    "file.close()\n"
   ]
  },
  {
   "cell_type": "markdown",
   "metadata": {},
   "source": [
    "### hi\n"
   ]
  },
  {
   "cell_type": "markdown",
   "metadata": {},
   "source": [
    "data.map(e=> {})"
   ]
  },
  {
   "cell_type": "markdown",
   "metadata": {},
   "source": []
  }
 ],
 "metadata": {
  "kernelspec": {
   "display_name": "Python 3.9.5 ('intermediate-8iVBOfNC')",
   "language": "python",
   "name": "python3"
  },
  "language_info": {
   "codemirror_mode": {
    "name": "ipython",
    "version": 3
   },
   "file_extension": ".py",
   "mimetype": "text/x-python",
   "name": "python",
   "nbconvert_exporter": "python",
   "pygments_lexer": "ipython3",
   "version": "3.9.5"
  },
  "orig_nbformat": 4,
  "vscode": {
   "interpreter": {
    "hash": "f0c785b14bc2a6362ed484195f243261ba414edfe6a3cc18462d408062376a07"
   }
  }
 },
 "nbformat": 4,
 "nbformat_minor": 2
}
