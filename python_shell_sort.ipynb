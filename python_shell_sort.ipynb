{
 "cells": [
  {
   "cell_type": "code",
   "execution_count": null,
   "metadata": {},
   "outputs": [],
   "source": [
    "# shell sort\n",
    "def shell_sort(arr:list):\n",
    "  size = len(arr)\n",
    "  gap = size // 2\n",
    "  # gap = size // 2\n",
    "  while gap > 0:\n",
    "\n",
    "    for i in range(gap, size):\n",
    "      anchor = arr[i]\n",
    "      j = i\n",
    "      print(arr)\n",
    "      print(\"-----loop begain----\")\n",
    "\n",
    "      while j >= gap and arr[j-gap] > arr[j]:\n",
    "        \n",
    "        arr[j] = arr[j - gap]\n",
    "        print(arr)\n",
    "        j -= gap\n",
    "      arr[j] = anchor\n",
    "      print(\"-----loop end----\")\n",
    "    gap = gap//2\n",
    "    \n",
    "  return arr\n",
    "\n",
    "print(shell_sort([11,15,8,14,7,90,45,34]))"
   ]
  }
 ],
 "metadata": {
  "language_info": {
   "name": "python"
  },
  "orig_nbformat": 4
 },
 "nbformat": 4,
 "nbformat_minor": 2
}
