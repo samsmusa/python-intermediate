{
 "cells": [
  {
   "cell_type": "code",
   "execution_count": 1,
   "metadata": {},
   "outputs": [
    {
     "data": {
      "text/plain": [
       "__main__.Foo"
      ]
     },
     "execution_count": 1,
     "metadata": {},
     "output_type": "execute_result"
    }
   ],
   "source": [
    "class Foo:\n",
    "    pass\n",
    "\n",
    "x = Foo()\n",
    "x.__class__\n"
   ]
  },
  {
   "cell_type": "code",
   "execution_count": 2,
   "metadata": {},
   "outputs": [
    {
     "data": {
      "text/plain": [
       "__main__.Foo"
      ]
     },
     "execution_count": 2,
     "metadata": {},
     "output_type": "execute_result"
    }
   ],
   "source": [
    "Foo().__class__"
   ]
  },
  {
   "cell_type": "code",
   "execution_count": 3,
   "metadata": {},
   "outputs": [
    {
     "data": {
      "text/plain": [
       "type"
      ]
     },
     "execution_count": 3,
     "metadata": {},
     "output_type": "execute_result"
    }
   ],
   "source": [
    "Foo.__class__"
   ]
  },
  {
   "cell_type": "code",
   "execution_count": 9,
   "metadata": {},
   "outputs": [
    {
     "data": {
      "text/plain": [
       "__main__.Foo"
      ]
     },
     "execution_count": 9,
     "metadata": {},
     "output_type": "execute_result"
    }
   ],
   "source": [
    "Foo.__base__\n",
    "Foo.__name__\n",
    "x.__class__"
   ]
  },
  {
   "cell_type": "code",
   "execution_count": 20,
   "metadata": {},
   "outputs": [
    {
     "data": {
      "text/plain": [
       "int"
      ]
     },
     "execution_count": 20,
     "metadata": {},
     "output_type": "execute_result"
    }
   ],
   "source": [
    "# type(x)\n",
    "type(Foo)\n",
    "type(x) is x.__class__\n",
    "n = 5\n",
    "n.__class__\n",
    "int(5).__class__"
   ]
  },
  {
   "cell_type": "code",
   "execution_count": 32,
   "metadata": {},
   "outputs": [
    {
     "ename": "TypeError",
     "evalue": "type.__new__() argument 3 must be dict, not tuple",
     "output_type": "error",
     "traceback": [
      "\u001b[1;31m---------------------------------------------------------------------------\u001b[0m",
      "\u001b[1;31mTypeError\u001b[0m                                 Traceback (most recent call last)",
      "\u001b[1;32md:\\1_Working_dir\\python\\intermediate\\class\\meta_class.ipynb Cell 6'\u001b[0m in \u001b[0;36m<cell line: 1>\u001b[1;34m()\u001b[0m\n\u001b[1;32m----> <a href='vscode-notebook-cell:/d%3A/1_Working_dir/python/intermediate/class/meta_class.ipynb#ch0000005?line=0'>1</a>\u001b[0m \u001b[39mtype\u001b[39;49m(\u001b[39m'\u001b[39;49m\u001b[39mint\u001b[39;49m\u001b[39m'\u001b[39;49m, (\u001b[39m2\u001b[39;49m,\u001b[39m3\u001b[39;49m), (\u001b[39m4\u001b[39;49m,\u001b[39m5\u001b[39;49m))\n",
      "\u001b[1;31mTypeError\u001b[0m: type.__new__() argument 3 must be dict, not tuple"
     ]
    }
   ],
   "source": [
    "type('int', (2,3), {})"
   ]
  },
  {
   "cell_type": "markdown",
   "metadata": {},
   "source": [
    "## hello world\n",
    "| int | vlaue | float | value|\n",
    "|-----|-------|-------|------|\n",
    "| n   | 3     | f     | 3.0  |\n",
    "\n",
    "list \n",
    "- jigatola\n",
    "- monkeyvola\n",
    "- indiramuna\n"
   ]
  },
  {
   "cell_type": "markdown",
   "metadata": {},
   "source": [
    "Abrar 12, [6/21/2022 11:22 AM]\n",
    "| Tables        | Are           | Cool  |\n",
    "| ------------- |:-------------:| -----:|\n",
    "| col 3 is      | right-aligned | $1600 |\n",
    "| col 2 is      | centered      |   $12 |\n",
    "| zebra stripes | are neat      |    $1 |\n",
    "\n",
    "Abrar 12, [6/21/2022 11:23 AM]\n",
    "Markdown | Less | Pretty\n",
    "--- | --- | ---\n",
    "*Still* | renders | nicely\n",
    "1 | 2 | 3"
   ]
  },
  {
   "cell_type": "markdown",
   "metadata": {},
   "source": [
    "$\\frac{4}{5} + \\frac{9}{6} = \\frac{6}{\\lambda}$"
   ]
  },
  {
   "cell_type": "markdown",
   "metadata": {},
   "source": []
  },
  {
   "cell_type": "code",
   "execution_count": null,
   "metadata": {},
   "outputs": [],
   "source": [
    "মেটা ক্লাস কী ?\n",
    "  মেটা ক্লাস জানার আগে আমাদের জানতে হবে ক্লাস কী ?\n",
    "  ক্লাস হচ্ছে একধরণের প্রটোটাইপ ! । তাহলে প্রোটোটাইপ কি ? প্রোটোটাইপ হচ্ছে মডেল । অর্থাৎ যার আলোকে কোন কিছু করা যাবে । সেক্ষেত্রে ক্লাস হচ্ছে মডেল। \n",
    "  যেমন আমরা একটা মডেল ডিক্লার করলাম । যার নাম হচ্ছে মেশিন । \n"
   ]
  },
  {
   "cell_type": "code",
   "execution_count": 33,
   "metadata": {},
   "outputs": [],
   "source": [
    "class Machine:\n",
    "  price = 100\n"
   ]
  },
  {
   "cell_type": "code",
   "execution_count": 36,
   "metadata": {},
   "outputs": [
    {
     "ename": "AttributeError",
     "evalue": "'Machine' object has no attribute 'price'",
     "output_type": "error",
     "traceback": [
      "\u001b[1;31m---------------------------------------------------------------------------\u001b[0m",
      "\u001b[1;31mAttributeError\u001b[0m                            Traceback (most recent call last)",
      "\u001b[1;32md:\\1_Working_dir\\python\\intermediate\\class\\meta_class.ipynb Cell 13'\u001b[0m in \u001b[0;36m<cell line: 2>\u001b[1;34m()\u001b[0m\n\u001b[0;32m      <a href='vscode-notebook-cell:/d%3A/1_Working_dir/python/intermediate/class/meta_class.ipynb#ch0000012?line=0'>1</a>\u001b[0m x \u001b[39m=\u001b[39m Machine()\n\u001b[1;32m----> <a href='vscode-notebook-cell:/d%3A/1_Working_dir/python/intermediate/class/meta_class.ipynb#ch0000012?line=1'>2</a>\u001b[0m x\u001b[39m.\u001b[39;49mprice()\n",
      "\u001b[1;31mAttributeError\u001b[0m: 'Machine' object has no attribute 'price'"
     ]
    }
   ],
   "source": [
    "x = Machine()\n",
    "x.price()"
   ]
  }
 ],
 "metadata": {
  "kernelspec": {
   "display_name": "Python 3.9.5 64-bit",
   "language": "python",
   "name": "python3"
  },
  "language_info": {
   "codemirror_mode": {
    "name": "ipython",
    "version": 3
   },
   "file_extension": ".py",
   "mimetype": "text/x-python",
   "name": "python",
   "nbconvert_exporter": "python",
   "pygments_lexer": "ipython3",
   "version": "3.9.5"
  },
  "orig_nbformat": 4,
  "vscode": {
   "interpreter": {
    "hash": "81794d4967e6c3204c66dcd87b604927b115b27c00565d3d43f05ba2f3a2cb0d"
   }
  }
 },
 "nbformat": 4,
 "nbformat_minor": 2
}
