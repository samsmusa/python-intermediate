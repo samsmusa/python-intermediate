{
 "cells": [
  {
   "cell_type": "code",
   "execution_count": 2,
   "metadata": {},
   "outputs": [
    {
     "name": "stdout",
     "output_type": "stream",
     "text": [
      "[1, 5, 6, 7, 11, 34, 45, 55, 78, 90]\n"
     ]
    }
   ],
   "source": [
    "# python merge short tecnique\n",
    "\n",
    "def merge(arr:list):\n",
    "  if len(arr) <=1:\n",
    "    return arr \n",
    "  middle = len(arr)//2\n",
    "  left = arr[:middle]\n",
    "  right = arr[middle:]\n",
    "  Left = merge(left)\n",
    "  Right = merge(right)\n",
    "  return merge_short(Left, Right)\n",
    "\n",
    "def merge_short(a:list, b:list)->list:\n",
    "  sorted_list = []\n",
    "\n",
    "  i=j=0\n",
    "  while i < len(a) and j < len(b):\n",
    "    if a[i] <= b[j]:\n",
    "      sorted_list.append(a[i])\n",
    "      i += 1\n",
    "    else:\n",
    "      sorted_list.append(b[j])\n",
    "      j += 1\n",
    "  \n",
    "  while i < len(a):\n",
    "    sorted_list.append(a[i])\n",
    "    i += 1\n",
    "  while j < len(b):\n",
    "    sorted_list.append(b[j])\n",
    "    j += 1\n",
    "  return sorted_list\n",
    "\n",
    "\n",
    "\n",
    "a = [1,34,45,5,6,55,78,90,7,11]\n",
    "b = [9,18,30,40]\n",
    "\n",
    "print(merge(a))"
   ]
  },
  {
   "cell_type": "code",
   "execution_count": 1,
   "metadata": {},
   "outputs": [],
   "source": [
    "def merge_sort(elements, key='time_hours', descending=True):\n",
    "  if len(elements) <= 1:\n",
    "    return elements\n",
    "  mid = len(elements) // 2\n",
    "  left = elements[:mid]\n",
    "  right = elements[mid:]\n",
    "  Left = merge_sort(left, key=key, descending=descending)\n",
    "  Right = merge_sort(right, key=key, descending=descending)\n",
    "  return merge_sort_divide(Left, Right, key=key, descending=descending)\n",
    "\n",
    "def merge_sort_divide(a, b, key, descending=True):\n",
    "  sorted_list = []\n",
    "  i = j = 0\n",
    "\n",
    "  while i < len(a) and j < len(b):\n",
    "    if descending:\n",
    "      if a[i][key] <= b[j][key]:\n",
    "        sorted_list.append(a[i])\n",
    "        i += 1\n",
    "      else:\n",
    "        sorted_list.append(b[j])\n",
    "        j += 1 \n",
    "    else:\n",
    "      if a[i][key] >= b[j][key]:\n",
    "        sorted_list.append(a[i])\n",
    "        i += 1\n",
    "      else:\n",
    "        sorted_list.append(b[j])\n",
    "        j += 1 \n",
    "\n",
    "  while i < len(a):\n",
    "    sorted_list.append(a[i])\n",
    "    i += 1\n",
    "\n",
    "  while j < len(b):\n",
    "    sorted_list.append(b[j])\n",
    "    j += 1\n",
    "\n",
    "  return sorted_list"
   ]
  },
  {
   "cell_type": "code",
   "execution_count": 3,
   "metadata": {},
   "outputs": [
    {
     "name": "stdout",
     "output_type": "stream",
     "text": [
      "[{'name': 'chinmay', 'age': 24, 'time_hours': 1.5}, {'name': 'rajab', 'age': 17, 'time_hours': 3}, {'name': 'vedanth', 'age': 8, 'time_hours': 1}, {'name': 'vignesh', 'age': 9, 'time_hours': 2.5}]\n"
     ]
    }
   ],
   "source": [
    "elements = [\n",
    "        { 'name': 'vedanth',   'age': 8, 'time_hours': 1},\n",
    "        { 'name': 'rajab', 'age': 17,  'time_hours': 3},\n",
    "        { 'name': 'vignesh',  'age': 9,  'time_hours': 2.5},\n",
    "        { 'name': 'chinmay',  'age': 24,  'time_hours': 1.5}\n",
    "        \n",
    "    ]\n",
    "\n",
    "\n",
    "\n",
    "print(merge_sort(elements, key='name', descending=True))"
   ]
  },
  {
   "cell_type": "code",
   "execution_count": null,
   "metadata": {},
   "outputs": [],
   "source": []
  }
 ],
 "metadata": {
  "kernelspec": {
   "display_name": "Python 3.9.5 64-bit",
   "language": "python",
   "name": "python3"
  },
  "language_info": {
   "codemirror_mode": {
    "name": "ipython",
    "version": 3
   },
   "file_extension": ".py",
   "mimetype": "text/x-python",
   "name": "python",
   "nbconvert_exporter": "python",
   "pygments_lexer": "ipython3",
   "version": "3.9.5"
  },
  "orig_nbformat": 4,
  "vscode": {
   "interpreter": {
    "hash": "81794d4967e6c3204c66dcd87b604927b115b27c00565d3d43f05ba2f3a2cb0d"
   }
  }
 },
 "nbformat": 4,
 "nbformat_minor": 2
}
